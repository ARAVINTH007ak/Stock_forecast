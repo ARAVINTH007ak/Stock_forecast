{
 "cells": [
  {
   "cell_type": "markdown",
   "metadata": {},
   "source": [
    "### Data for NN models"
   ]
  },
  {
   "cell_type": "code",
   "execution_count": 2,
   "metadata": {},
   "outputs": [],
   "source": [
    "import pandas as pd\n",
    "import numpy as np\n",
    "from sklearn.preprocessing import MinMaxScaler\n",
    "\n",
    "def prepare_data_feat_step(prices, training_days, n_lags, step, target_col='MA', extra_features=['RSI']):\n",
    "    \"\"\"\n",
    "    Prepares data for LSTM model considering a window of n_lags past observations to create X_train and X_test.\n",
    "    y_train is prepared for long-term forecasting with a specified forecast horizon.\n",
    "\n",
    "    Args:\n",
    "        prices (pd.DataFrame): DataFrame containing the historical price data.\n",
    "        training_days (int): Number of days to use for training.\n",
    "        n_lags (int): Number of past observations to use as features.\n",
    "        step (int): The day to forecast in future. If ==0 means that the next day will be predicted\n",
    "        target_col (str): The target column to forecast.\n",
    "        extra_features (list): List of additional features to include.\n",
    "\n",
    "    Returns:\n",
    "        tuple: (X_train, y_train, X_test, real_stock_price, sc_target) where:\n",
    "            - X_train (np.ndarray): Training features.\n",
    "            - y_train (np.ndarray): Training targets.\n",
    "            - X_test (np.ndarray): Testing features.\n",
    "            - real_stock_price (pd.DataFrame): Real stock prices for comparison.\n",
    "            - sc_target (MinMaxScaler): Scaler used for the target column.\n",
    "    \"\"\"\n",
    "    # Split prices into train and test\n",
    "    dataset_train, dataset_test = prices.iloc[:training_days], prices.iloc[training_days:]\n",
    "    cols = [target_col] + extra_features\n",
    "    sc_extra = {}\n",
    "    features_scaled = {}\n",
    "\n",
    "    # Scale features\n",
    "    for f in cols:\n",
    "        sc_extra[f] = MinMaxScaler(feature_range=(0, 1))\n",
    "        features_scaled[f] = sc_extra[f].fit_transform(dataset_train[[f]].values)\n",
    "\n",
    "    # Create a data structure with n_lags timesteps and step output\n",
    "    X_train = []\n",
    "    y_train = []\n",
    "    for i in range(n_lags, len(features_scaled[target_col]) - step):\n",
    "        x_train = features_scaled[target_col][i - n_lags:i].squeeze()\n",
    "        for f in extra_features:\n",
    "            x_train = np.hstack((x_train, features_scaled[f][i - n_lags:i].squeeze()))\n",
    "        X_train.append(x_train)\n",
    "        #y_train.append(dataset_train[target_col].iloc[i + step])\n",
    "        y_train.append(features_scaled[target_col][i + step])\n",
    "    X_train, y_train = np.array(X_train), np.array(y_train)\n",
    "    # Reshape for LSTM to include the new dimension\n",
    "    X_train = np.reshape(X_train, (X_train.shape[0], n_lags, len(cols)))\n",
    "\n",
    "    # Prepare test set\n",
    "    real_stock_price = dataset_test[[target_col]]\n",
    "    dataset_total = pd.concat((dataset_train[cols], dataset_test[cols]), axis=0)\n",
    "    dataset_total = dataset_total[len(dataset_total) - len(dataset_test) - n_lags:]\n",
    "\n",
    "    for f in cols:\n",
    "        dataset_total[f] = sc_extra[f].transform(dataset_total[[f]])\n",
    "\n",
    "    X_test = []\n",
    "    for i in range(n_lags, len(dataset_total) - step):\n",
    "        x_test = dataset_total[target_col][i - n_lags:i].values\n",
    "        for f in extra_features:\n",
    "            x_test = np.hstack((x_test, dataset_total[f][i - n_lags:i].values))\n",
    "        X_test.append(x_test)\n",
    "    X_test = np.array(X_test)\n",
    "    X_test = np.reshape(X_test, (X_test.shape[0], n_lags, len(cols)))\n",
    "\n",
    "    return X_train, y_train, X_test, real_stock_price, sc_extra\n"
   ]
  },
  {
   "cell_type": "code",
   "execution_count": 3,
   "metadata": {},
   "outputs": [],
   "source": [
    "stock_price=pd.read_csv('../data/TSLA.csv')"
   ]
  },
  {
   "cell_type": "code",
   "execution_count": 4,
   "metadata": {},
   "outputs": [],
   "source": [
    "stock_price.index=pd.DatetimeIndex(stock_price['Unnamed: 0'])"
   ]
  },
  {
   "cell_type": "code",
   "execution_count": 5,
   "metadata": {},
   "outputs": [
    {
     "name": "stderr",
     "output_type": "stream",
     "text": [
      "/opt/anaconda3/envs/finance/lib/python3.12/site-packages/sklearn/base.py:486: UserWarning: X has feature names, but MinMaxScaler was fitted without feature names\n",
      "  warnings.warn(\n",
      "/opt/anaconda3/envs/finance/lib/python3.12/site-packages/sklearn/base.py:486: UserWarning: X has feature names, but MinMaxScaler was fitted without feature names\n",
      "  warnings.warn(\n"
     ]
    }
   ],
   "source": [
    "training_days=int(len(stock_price)*0.75)\n",
    "n_lags=5\n",
    "step=0\n",
    "target_col='Close'\n",
    "extra_features=['Volume']\n",
    "X_train, y_train, X_test, real_stock_price, sc_extra=prepare_data_feat_step(stock_price, training_days, n_lags, step, target_col, extra_features)\n"
   ]
  },
  {
   "cell_type": "markdown",
   "metadata": {},
   "source": [
    "#### Data for XGBoost model"
   ]
  },
  {
   "cell_type": "code",
   "execution_count": 14,
   "metadata": {},
   "outputs": [],
   "source": [
    "X_train_df=pd.DataFrame(X_train.reshape(X_train.shape[0], X_train.shape[1]*X_train.shape[2]))\n",
    "col_vals=[target_col]+extra_features\n",
    "cols_res=[]\n",
    "for c in col_vals:\n",
    "    for i in range(1, n_lags+1,1):\n",
    "        cols_res.append(f'{c}_{n_lags-i+1}')\n",
    "X_train_df.columns=cols_res\n",
    "train_ind=stock_price.iloc[n_lags:training_days].index\n",
    "\n",
    "X_train_df.index=train_ind\n",
    "y_train_df=pd.Series(y_train.squeeze(-1),index=train_ind)\n",
    "\n",
    "X_test_df=pd.DataFrame(X_test.reshape(X_test.shape[0], X_test.shape[1]*X_test.shape[2]))\n",
    "X_test_df.columns=cols_res"
   ]
  },
  {
   "cell_type": "code",
   "execution_count": 15,
   "metadata": {},
   "outputs": [
    {
     "data": {
      "text/plain": [
       "{'Close': MinMaxScaler(), 'Volume': MinMaxScaler()}"
      ]
     },
     "execution_count": 15,
     "metadata": {},
     "output_type": "execute_result"
    }
   ],
   "source": [
    "sc_extra[target_col]"
   ]
  },
  {
   "cell_type": "markdown",
   "metadata": {},
   "source": [
    "### Data for Darts"
   ]
  },
  {
   "cell_type": "code",
   "execution_count": 49,
   "metadata": {},
   "outputs": [],
   "source": [
    "from darts import TimeSeries"
   ]
  },
  {
   "cell_type": "code",
   "execution_count": 60,
   "metadata": {},
   "outputs": [],
   "source": [
    "ts=stock_price.rename(columns={'Unnamed: 0':'date', target_col:'value'})\n",
    "ts=ts[['date', 'value']]\n",
    "ts['date']=pd.to_datetime(ts['date'])"
   ]
  },
  {
   "cell_type": "code",
   "execution_count": 64,
   "metadata": {},
   "outputs": [],
   "source": [
    "# Create TimeSeries object with fill_missing_dates and specified frequency\n",
    "series = TimeSeries.from_dataframe(ts, time_col='date', value_cols=['value'], fill_missing_dates=True, freq='B')  # 'B' stands for business day frequency\n"
   ]
  },
  {
   "cell_type": "code",
   "execution_count": 66,
   "metadata": {},
   "outputs": [
    {
     "data": {
      "text/plain": [
       "<Axes: xlabel='date'>"
      ]
     },
     "execution_count": 66,
     "metadata": {},
     "output_type": "execute_result"
    },
    {
     "data": {
      "image/png": "[encoded data removed]",
      "text/plain": [
       "<Figure size 640x480 with 1 Axes>"
      ]
     },
     "metadata": {},
     "output_type": "display_data"
    }
   ],
   "source": [
    "from darts.models import NaiveSeasonal\n",
    "\n",
    "naive_model = NaiveSeasonal(K=1)\n",
    "naive_model.fit(series)\n",
    "naive_forecast = naive_model.predict(36)\n",
    "\n",
    "series.plot(label=\"actual\")\n",
    "naive_forecast.plot(label=\"naive forecast (K=1)\")"
   ]
  },
  {
   "cell_type": "markdown",
   "metadata": {},
   "source": [
    "### Data for neuralforecast"
   ]
  },
  {
   "cell_type": "markdown",
   "metadata": {},
   "source": [
    "Nuralforecast can be run on Python version <3.12\n",
    "We'll create additional conda environment with Python 3.10 to run the Nuralforecast in a separate notebook"
   ]
  }
 ],
 "metadata": {
  "kernelspec": {
   "display_name": "finance",
   "language": "python",
   "name": "python3"
  },
  "language_info": {
   "codemirror_mode": {
    "name": "ipython",
    "version": 3
   },
   "file_extension": ".py",
   "mimetype": "text/x-python",
   "name": "python",
   "nbconvert_exporter": "python",
   "pygments_lexer": "ipython3",
   "version": "3.12.2"
  }
 },
 "nbformat": 4,
 "nbformat_minor": 2
}

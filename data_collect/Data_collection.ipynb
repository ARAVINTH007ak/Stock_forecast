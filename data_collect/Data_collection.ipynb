{
 "cells": [
  {
   "cell_type": "markdown",
   "metadata": {},
   "source": [
    "### Collect historical data from yahoo finance"
   ]
  },
  {
   "cell_type": "code",
   "execution_count": 32,
   "metadata": {},
   "outputs": [],
   "source": [
    "import yfinance as yf\n",
    "import pandas as pd\n",
    "## Getting stock price data\n",
    "#\n",
    "def prepPrices(price_history, n_days,  mov_avg=0, target_col='Close'):\n",
    "        \n",
    "    # Filling NaNs with the most recent values for any missing data\n",
    "    prices = price_history.fillna(method='ffill')\n",
    "    \n",
    "    # Getting the N Day Moving Average and rounding the values for some light data preprocessing\n",
    "    if mov_avg>0:\n",
    "        prices['MA'] = prices[[target_col]].rolling(\n",
    "        window=mov_avg).mean().apply(lambda x: round(x, 2))\n",
    "    # Dropping the Nans\n",
    "    prices.dropna(inplace=True)\n",
    "    #ignore time in index to merge with other datasets later\n",
    "    if isinstance(price_history.index, pd.DatetimeIndex):\n",
    "        prices.index=[pd.to_datetime(str(x).split('T')[0]) for x in prices.index.values]\n",
    "    else:\n",
    "       prices.index=[pd.to_datetime(str(x).split()[0]) for x in prices.index.values]\n",
    "    prices.index=prices.index.tz_localize(None)\n",
    " \n",
    "    return prices\n",
    "\n",
    "def getStockPrices(stock, n_days, mov_avg, target_col='Close'):\n",
    "    \"\"\"\n",
    "    Gets stock prices from now to N days ago and training amount will be in addition \n",
    "    to the number of days to train.\n",
    "    \"\"\"\n",
    "    \n",
    "    # Designating the Ticker\n",
    "    ticker = yf.Ticker(stock)\n",
    "\n",
    "    # Getting all price history\n",
    "    price_history = ticker.history(period=f\"{n_days}d\")\n",
    "    \n",
    "    # Check on length\n",
    "    #if len(price_history)<n_days+training_days+mov_avg:\n",
    "    #    return pd.DataFrame(), price_history\n",
    "    \n",
    "    prices=prepPrices(price_history, n_days, mov_avg, target_col)\n",
    "\n",
    "    return price_history, prices\n"
   ]
  },
  {
   "cell_type": "code",
   "execution_count": 65,
   "metadata": {},
   "outputs": [
    {
     "name": "stderr",
     "output_type": "stream",
     "text": [
      "/var/folders/0n/zbn05tys7vxf2qmpt5ky41h80000gq/T/ipykernel_49775/4253927514.py:8: FutureWarning: DataFrame.fillna with 'method' is deprecated and will raise in a future version. Use obj.ffill() or obj.bfill() instead.\n",
      "  prices = price_history.fillna(method='ffill')\n"
     ]
    }
   ],
   "source": [
    "ticker='TSLA'\n",
    "n_days=700\n",
    "orig_stock, stock_prices = getStockPrices(ticker, n_days, mov_avg=5, target_col='Close') "
   ]
  },
  {
   "cell_type": "code",
   "execution_count": 66,
   "metadata": {},
   "outputs": [],
   "source": [
    "stock_prices.to_csv(f'../data/{ticker}.csv')"
   ]
  },
  {
   "cell_type": "code",
   "execution_count": 67,
   "metadata": {},
   "outputs": [
    {
     "data": {
      "text/plain": [
       "'2021-09-09'"
      ]
     },
     "execution_count": 67,
     "metadata": {},
     "output_type": "execute_result"
    }
   ],
   "source": [
    "str(stock_prices.index.min()).split()[0]"
   ]
  },
  {
   "cell_type": "code",
   "execution_count": 68,
   "metadata": {},
   "outputs": [
    {
     "data": {
      "text/plain": [
       "730"
      ]
     },
     "execution_count": 68,
     "metadata": {},
     "output_type": "execute_result"
    }
   ],
   "source": [
    "365*2"
   ]
  },
  {
   "cell_type": "markdown",
   "metadata": {},
   "source": [
    "### Collect historical news from The GDELT"
   ]
  },
  {
   "cell_type": "code",
   "execution_count": 93,
   "metadata": {},
   "outputs": [
    {
     "name": "stdout",
     "output_type": "stream",
     "text": [
      "2021-09-09 00:00:00\n",
      "2021-10-09 00:00:00\n",
      "2021-11-08 00:00:00\n",
      "2021-12-08 00:00:00\n",
      "2022-01-07 00:00:00\n",
      "2022-02-06 00:00:00\n",
      "2022-03-08 00:00:00\n",
      "2022-04-07 00:00:00\n",
      "2022-05-07 00:00:00\n",
      "2022-06-06 00:00:00\n",
      "2022-07-06 00:00:00\n",
      "2022-08-05 00:00:00\n",
      "2022-09-04 00:00:00\n",
      "2022-10-04 00:00:00\n",
      "2022-11-03 00:00:00\n",
      "2022-12-03 00:00:00\n",
      "2023-01-02 00:00:00\n",
      "2023-02-01 00:00:00\n",
      "2023-03-03 00:00:00\n",
      "2023-04-02 00:00:00\n",
      "2023-05-02 00:00:00\n",
      "2023-06-01 00:00:00\n",
      "2023-07-01 00:00:00\n",
      "2023-07-31 00:00:00\n",
      "2023-08-30 00:00:00\n",
      "2023-09-29 00:00:00\n",
      "2023-10-29 00:00:00\n",
      "2023-11-28 00:00:00\n",
      "2023-12-28 00:00:00\n",
      "2024-01-27 00:00:00\n",
      "2024-02-26 00:00:00\n",
      "2024-03-27 00:00:00\n",
      "2024-04-26 00:00:00\n",
      "2024-05-26 00:00:00\n"
     ]
    }
   ],
   "source": [
    "from gdeltdoc import GdeltDoc, Filters\n",
    "import numpy as np\n",
    "import datetime\n",
    "\n",
    "\n",
    "news_data=[]\n",
    "news_vol=[]\n",
    "start=stock_prices.index.min()\n",
    "while start.date()<datetime.datetime.today().date():\n",
    "    print(start)\n",
    "    end=np.min([(start+datetime.timedelta(days=30)),datetime.datetime.today()])\n",
    "    f = Filters(\n",
    "        keyword = \"Tesla tsla\",\n",
    "        start_date = str(start).split()[0],\n",
    "        end_date = str(end).split()[0]\n",
    "    )\n",
    "\n",
    "    gd = GdeltDoc()\n",
    "\n",
    "    # Search for articles matching the filters\n",
    "    articles = gd.article_search(f)\n",
    "\n",
    "    # Get a timeline of the number of articles matching the filters\n",
    "    timeline = gd.timeline_search(\"timelinevol\", f)\n",
    "    news_data.append(articles)\n",
    "    news_vol.append(timeline)\n",
    "    start=end\n"
   ]
  },
  {
   "cell_type": "code",
   "execution_count": 94,
   "metadata": {},
   "outputs": [
    {
     "data": {
      "text/plain": [
       "(8500, 9)"
      ]
     },
     "execution_count": 94,
     "metadata": {},
     "output_type": "execute_result"
    }
   ],
   "source": [
    "news_data_df=pd.concat(news_data)\n",
    "news_data_df['dt']=news_data_df['seendate'].apply(lambda x: datetime.datetime.strptime(x, \"%Y%m%dT%H%M%SZ\"))\n",
    "news_data_df.shape"
   ]
  },
  {
   "cell_type": "code",
   "execution_count": 97,
   "metadata": {},
   "outputs": [],
   "source": [
    "news_data_df_processed=news_data_df[['dt', 'title']].drop_duplicates().sort_values('dt')\n"
   ]
  },
  {
   "cell_type": "code",
   "execution_count": 98,
   "metadata": {},
   "outputs": [],
   "source": [
    "news_data_df_processed.to_csv(f'../data/{ticker}_news.csv')"
   ]
  }
 ],
 "metadata": {
  "kernelspec": {
   "display_name": "finance",
   "language": "python",
   "name": "python3"
  },
  "language_info": {
   "codemirror_mode": {
    "name": "ipython",
    "version": 3
   },
   "file_extension": ".py",
   "mimetype": "text/x-python",
   "name": "python",
   "nbconvert_exporter": "python",
   "pygments_lexer": "ipython3",
   "version": "3.12.2"
  }
 },
 "nbformat": 4,
 "nbformat_minor": 2
}

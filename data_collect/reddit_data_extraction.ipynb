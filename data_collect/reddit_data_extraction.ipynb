{
 "cells": [
  {
   "cell_type": "code",
   "execution_count": null,
   "metadata": {},
   "outputs": [],
   "source": [
    "import praw #reddit data api\n",
    "import pandas as pd\n",
    "reddit = praw.Reddit(client_id='1xGRq_v71j1GZTBh2CsnXw',\n",
    "                     client_secret='6TpLLWPHQ8OuxvcJ183H0UNbrJZ5sQ', \n",
    "                     user_agent='Kumar Shantanu')\n",
    "\n",
    "posts = []\n",
    "wsb = reddit.subreddit('wallstreetbets')\n",
    "for post in wsb.hot(limit=50000):\n",
    "    posts.append([post.title, post.score, post.id, post.subreddit, post.url, post.num_comments, post.selftext, post.created])\n",
    "posts = pd.DataFrame(posts,columns=['title', 'score', 'id', 'subreddit', 'url', 'num_comments', 'body', 'created'])\n",
    "\n",
    "from tqdm import tqdm \n",
    "comments_by_day=[]\n",
    "for url in tqdm(posts['url'].tolist()):\n",
    "    try:\n",
    "        submission = reddit.submission(url=url)\n",
    "        submission.comments.replace_more(limit=0)\n",
    "        comments=list([(comment.body) for comment in submission.comments])\n",
    "    except:\n",
    "        comments=None\n",
    "    comments_by_day.append(comments)\n",
    "\n",
    "posts['created'] = pd.to_datetime(posts['created'],unit='s')\n",
    "posts['comments'] = comments_by_day\n",
    "posts[['title', 'score', 'num_comments', 'created', 'comments']].sort_values('created', ascending=False)"
   ]
  }
 ],
 "metadata": {
  "language_info": {
   "name": "python"
  }
 },
 "nbformat": 4,
 "nbformat_minor": 2
}

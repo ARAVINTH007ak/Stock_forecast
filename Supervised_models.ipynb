{
  "cells": [
    {
      "cell_type": "markdown",
      "metadata": {
        "id": "view-in-github",
        "colab_type": "text"
      },
      "source": [
        "<a href=\"https://colab.research.google.com/github/AnnaDS/Stock_forecast/blob/main/Supervised_models.ipynb\" target=\"_parent\"><img src=\"https://colab.research.google.com/assets/colab-badge.svg\" alt=\"Open In Colab\"/></a>"
      ]
    },
    {
      "cell_type": "code",
      "source": [
        "from google.colab import drive\n",
        "drive.mount('/content/drive')"
      ],
      "metadata": {
        "colab": {
          "base_uri": "https://localhost:8080/"
        },
        "id": "Hv42b2qln2Up",
        "outputId": "2f47e0d5-a25d-4722-8f3a-1be107fdf4c3"
      },
      "execution_count": 2,
      "outputs": [
        {
          "output_type": "stream",
          "name": "stdout",
          "text": [
            "Mounted at /content/drive\n"
          ]
        }
      ]
    },
    {
      "cell_type": "code",
      "source": [
        "os.listdir()"
      ],
      "metadata": {
        "colab": {
          "base_uri": "https://localhost:8080/"
        },
        "id": "LM6YcPuio3ce",
        "outputId": "eb1120ee-5812-47e4-a06c-0dcda5991e5d"
      },
      "execution_count": 12,
      "outputs": [
        {
          "output_type": "execute_result",
          "data": {
            "text/plain": [
              "['.config', 'drive', 'sample_data']"
            ]
          },
          "metadata": {},
          "execution_count": 12
        }
      ]
    },
    {
      "cell_type": "code",
      "source": [
        "import os\n",
        "os.listdir('drive/MyDrive/stock_forecast/forecasting/lib')\n",
        "\n"
      ],
      "metadata": {
        "colab": {
          "base_uri": "https://localhost:8080/"
        },
        "id": "Th8tqWPBn8oc",
        "outputId": "a1d824b2-f053-4a00-d4b0-b1f22d302820"
      },
      "execution_count": 17,
      "outputs": [
        {
          "output_type": "execute_result",
          "data": {
            "text/plain": [
              "['models.py', 'get_data.py', 'data_prep.py', '__pycache__']"
            ]
          },
          "metadata": {},
          "execution_count": 17
        }
      ]
    },
    {
      "cell_type": "code",
      "execution_count": 19,
      "metadata": {
        "id": "57mSfkmnnhWE"
      },
      "outputs": [],
      "source": [
        "from drive.MyDrive.stock_forecast.forecasting.lib.data_prep import prepare_data_feat_step\n",
        "import pandas as pd\n",
        "from matplotlib import pyplot as plt\n",
        "import numpy as np\n",
        "from sklearn.preprocessing import MinMaxScaler\n",
        "\n",
        "stock_price=pd.read_csv('drive/MyDrive/stock_forecast/data/TSLA.csv')\n",
        "stock_price.index=pd.DatetimeIndex(stock_price['Unnamed: 0'])"
      ]
    },
    {
      "cell_type": "code",
      "execution_count": 20,
      "metadata": {
        "colab": {
          "base_uri": "https://localhost:8080/"
        },
        "id": "mbCZbkBKnhWH",
        "outputId": "2758762a-7be9-4d87-b233-9e0903b8181c"
      },
      "outputs": [
        {
          "output_type": "stream",
          "name": "stderr",
          "text": [
            "/usr/local/lib/python3.10/dist-packages/sklearn/base.py:432: UserWarning: X has feature names, but MinMaxScaler was fitted without feature names\n",
            "  warnings.warn(\n",
            "/usr/local/lib/python3.10/dist-packages/sklearn/base.py:432: UserWarning: X has feature names, but MinMaxScaler was fitted without feature names\n",
            "  warnings.warn(\n"
          ]
        }
      ],
      "source": [
        "training_days=int(len(stock_price)*0.75)\n",
        "n_lags=5\n",
        "step=0\n",
        "target_col='Close'\n",
        "extra_features=['Volume']\n",
        "X_train, y_train, X_test, real_stock_price, sc_extra=prepare_data_feat_step(stock_price, training_days, n_lags, step, target_col, extra_features)\n"
      ]
    },
    {
      "cell_type": "code",
      "execution_count": 22,
      "metadata": {
        "id": "WmNd_BoNnhWH"
      },
      "outputs": [],
      "source": [
        "from drive.MyDrive.stock_forecast.forecasting.lib.models import rnn_model, lstm_horizon_model\n",
        "y_train = y_train.reshape(-1, 1)\n",
        "model = lstm_horizon_model(X_train, y_train)\n"
      ]
    },
    {
      "cell_type": "code",
      "execution_count": 23,
      "metadata": {
        "colab": {
          "base_uri": "https://localhost:8080/"
        },
        "id": "52f-_8m2nhWH",
        "outputId": "7777b63d-bb4d-46ab-f6c9-b413fbfba033"
      },
      "outputs": [
        {
          "output_type": "stream",
          "name": "stdout",
          "text": [
            "Epoch 1/50\n",
            "13/13 [==============================] - 12s 194ms/step - loss: 0.2049 - val_loss: 0.0208\n",
            "Epoch 2/50\n",
            "13/13 [==============================] - 0s 29ms/step - loss: 0.0397 - val_loss: 0.0056\n",
            "Epoch 3/50\n",
            "13/13 [==============================] - 0s 31ms/step - loss: 0.0323 - val_loss: 0.0101\n",
            "Epoch 4/50\n",
            "13/13 [==============================] - 0s 29ms/step - loss: 0.0231 - val_loss: 0.0033\n",
            "Epoch 5/50\n",
            "13/13 [==============================] - 0s 28ms/step - loss: 0.0130 - val_loss: 0.0016\n",
            "Epoch 6/50\n",
            "13/13 [==============================] - 0s 29ms/step - loss: 0.0085 - val_loss: 0.0030\n",
            "Epoch 7/50\n",
            "13/13 [==============================] - 0s 30ms/step - loss: 0.0107 - val_loss: 0.0017\n",
            "Epoch 8/50\n",
            "13/13 [==============================] - 0s 34ms/step - loss: 0.0081 - val_loss: 0.0016\n",
            "Epoch 9/50\n",
            "13/13 [==============================] - 0s 31ms/step - loss: 0.0075 - val_loss: 0.0018\n",
            "Epoch 10/50\n",
            "13/13 [==============================] - 0s 31ms/step - loss: 0.0073 - val_loss: 0.0017\n",
            "Epoch 11/50\n",
            "13/13 [==============================] - 0s 32ms/step - loss: 0.0082 - val_loss: 0.0017\n",
            "Epoch 12/50\n",
            "13/13 [==============================] - 0s 30ms/step - loss: 0.0069 - val_loss: 0.0018\n",
            "Epoch 13/50\n",
            "13/13 [==============================] - 0s 32ms/step - loss: 0.0063 - val_loss: 0.0021\n",
            "Epoch 14/50\n",
            "13/13 [==============================] - 1s 52ms/step - loss: 0.0068 - val_loss: 0.0018\n",
            "Epoch 15/50\n",
            "13/13 [==============================] - 1s 49ms/step - loss: 0.0054 - val_loss: 0.0021\n",
            "Epoch 16/50\n",
            "13/13 [==============================] - 1s 40ms/step - loss: 0.0072 - val_loss: 0.0020\n",
            "Epoch 17/50\n",
            "13/13 [==============================] - 1s 45ms/step - loss: 0.0063 - val_loss: 0.0022\n",
            "Epoch 18/50\n",
            "13/13 [==============================] - 1s 42ms/step - loss: 0.0063 - val_loss: 0.0020\n",
            "Epoch 19/50\n",
            "13/13 [==============================] - 1s 49ms/step - loss: 0.0062 - val_loss: 0.0031\n",
            "Epoch 20/50\n",
            "13/13 [==============================] - 1s 46ms/step - loss: 0.0061 - val_loss: 0.0023\n",
            "Epoch 21/50\n",
            "13/13 [==============================] - 1s 53ms/step - loss: 0.0066 - val_loss: 0.0020\n",
            "Epoch 22/50\n",
            "13/13 [==============================] - 1s 46ms/step - loss: 0.0066 - val_loss: 0.0021\n",
            "Epoch 23/50\n",
            "13/13 [==============================] - 0s 32ms/step - loss: 0.0059 - val_loss: 0.0027\n",
            "Epoch 24/50\n",
            "13/13 [==============================] - 0s 33ms/step - loss: 0.0054 - val_loss: 0.0021\n",
            "Epoch 25/50\n",
            "13/13 [==============================] - 0s 31ms/step - loss: 0.0063 - val_loss: 0.0017\n",
            "Epoch 26/50\n",
            "13/13 [==============================] - 0s 31ms/step - loss: 0.0056 - val_loss: 0.0023\n",
            "Epoch 27/50\n",
            "13/13 [==============================] - 0s 31ms/step - loss: 0.0058 - val_loss: 0.0022\n",
            "Epoch 28/50\n",
            "13/13 [==============================] - 0s 28ms/step - loss: 0.0068 - val_loss: 0.0021\n",
            "Epoch 29/50\n",
            "13/13 [==============================] - 0s 30ms/step - loss: 0.0071 - val_loss: 0.0028\n",
            "Epoch 30/50\n",
            "13/13 [==============================] - 0s 31ms/step - loss: 0.0063 - val_loss: 0.0044\n",
            "Epoch 31/50\n",
            "13/13 [==============================] - 0s 28ms/step - loss: 0.0064 - val_loss: 0.0048\n",
            "Epoch 32/50\n",
            "13/13 [==============================] - 0s 31ms/step - loss: 0.0060 - val_loss: 0.0032\n",
            "Epoch 33/50\n",
            "13/13 [==============================] - 0s 29ms/step - loss: 0.0053 - val_loss: 0.0028\n",
            "Epoch 34/50\n",
            "13/13 [==============================] - 0s 30ms/step - loss: 0.0060 - val_loss: 0.0035\n",
            "Epoch 35/50\n",
            "13/13 [==============================] - 0s 32ms/step - loss: 0.0057 - val_loss: 0.0037\n",
            "Epoch 36/50\n",
            "13/13 [==============================] - 0s 34ms/step - loss: 0.0059 - val_loss: 0.0031\n",
            "Epoch 37/50\n",
            "13/13 [==============================] - 0s 30ms/step - loss: 0.0055 - val_loss: 0.0029\n",
            "Epoch 38/50\n",
            "13/13 [==============================] - 0s 30ms/step - loss: 0.0058 - val_loss: 0.0023\n",
            "Epoch 39/50\n",
            "13/13 [==============================] - 0s 29ms/step - loss: 0.0053 - val_loss: 0.0020\n",
            "Epoch 40/50\n",
            "13/13 [==============================] - 0s 33ms/step - loss: 0.0051 - val_loss: 0.0021\n",
            "Epoch 41/50\n",
            "13/13 [==============================] - 0s 32ms/step - loss: 0.0052 - val_loss: 0.0021\n",
            "Epoch 42/50\n",
            "13/13 [==============================] - 0s 35ms/step - loss: 0.0056 - val_loss: 0.0025\n",
            "Epoch 43/50\n",
            "13/13 [==============================] - 0s 32ms/step - loss: 0.0056 - val_loss: 0.0020\n",
            "Epoch 44/50\n",
            "13/13 [==============================] - 0s 30ms/step - loss: 0.0053 - val_loss: 0.0026\n",
            "Epoch 45/50\n",
            "13/13 [==============================] - 1s 42ms/step - loss: 0.0050 - val_loss: 0.0022\n",
            "Epoch 46/50\n",
            "13/13 [==============================] - 0s 31ms/step - loss: 0.0057 - val_loss: 0.0021\n",
            "Epoch 47/50\n",
            "13/13 [==============================] - 1s 49ms/step - loss: 0.0046 - val_loss: 0.0023\n",
            "Epoch 48/50\n",
            "13/13 [==============================] - 1s 45ms/step - loss: 0.0048 - val_loss: 0.0022\n",
            "Epoch 49/50\n",
            "13/13 [==============================] - 1s 41ms/step - loss: 0.0056 - val_loss: 0.0019\n",
            "Epoch 50/50\n",
            "13/13 [==============================] - 1s 43ms/step - loss: 0.0053 - val_loss: 0.0025\n"
          ]
        }
      ],
      "source": [
        "from tensorflow.keras.callbacks import TensorBoard\n",
        "import datetime\n",
        "# Define TensorBoard callback\n",
        "log_dir = \"logs/fit/\" + datetime.datetime.now().strftime(\"%Y%m%d-%H%M%S\")\n",
        "tensorboard_callback = TensorBoard(log_dir=log_dir, histogram_freq=1)\n",
        "\n",
        "# Train the model with TensorBoard callback\n",
        "history = model.fit(X_train, y_train, epochs=50, batch_size=32, validation_split=0.2, callbacks=[tensorboard_callback])"
      ]
    },
    {
      "cell_type": "markdown",
      "metadata": {
        "id": "kX5rUQ2pnhWI"
      },
      "source": [
        "#### Test predicting single value"
      ]
    },
    {
      "cell_type": "code",
      "execution_count": 24,
      "metadata": {
        "colab": {
          "base_uri": "https://localhost:8080/"
        },
        "id": "9sZrW6wInhWJ",
        "outputId": "1b3e84d6-9c4d-43a2-e322-e5a7930b8c6f"
      },
      "outputs": [
        {
          "output_type": "stream",
          "name": "stdout",
          "text": [
            "1/1 [==============================] - 2s 2s/step\n",
            "[[243.65584]]\n"
          ]
        }
      ],
      "source": [
        "# To predict a single value\n",
        "def predict_single_value(model, X_input):\n",
        "    X_input = np.expand_dims(X_input, axis=0)  # Adjust shape to (1, 5, 2)\n",
        "    prediction = model.predict(X_input)\n",
        "    return prediction\n",
        "\n",
        "# Example usage:\n",
        "X_sample = X_train[0]  # Example input, a single sample from X_train\n",
        "predicted_value = predict_single_value(model, X_sample)\n",
        "sc=sc_extra[target_col]\n",
        "print(sc.inverse_transform(predicted_value))"
      ]
    },
    {
      "cell_type": "markdown",
      "metadata": {
        "id": "TsZFWlDqnhWK"
      },
      "source": [
        "### Predict test using LSTM model"
      ]
    },
    {
      "cell_type": "code",
      "execution_count": 26,
      "metadata": {
        "colab": {
          "base_uri": "https://localhost:8080/",
          "height": 448
        },
        "id": "--SFzaN3nhWK",
        "outputId": "85e6e700-cec4-4333-b74e-13420ad36be6"
      },
      "outputs": [
        {
          "output_type": "stream",
          "name": "stdout",
          "text": [
            "6/6 [==============================] - 0s 5ms/step\n"
          ]
        },
        {
          "output_type": "execute_result",
          "data": {
            "text/plain": [
              "<Axes: >"
            ]
          },
          "metadata": {},
          "execution_count": 26
        },
        {
          "output_type": "display_data",
          "data": {
            "text/plain": [
              "<Figure size 640x480 with 1 Axes>"
            ],
            "image/png": "[encoded data removed]"
          },
          "metadata": {}
        }
      ],
      "source": [
        "#predict test with trained model\n",
        "#\n",
        "y_pred=model.predict(X_test)\n",
        "#get the right scaller\n",
        "sc=sc_extra[target_col]\n",
        "y_pred=sc.inverse_transform(y_pred)\n",
        "\n",
        "y_pred_df=pd.DataFrame({'forecast':y_pred.reshape(-1),\n",
        "                        'real':real_stock_price[target_col].values},\n",
        "                        index=real_stock_price.index.values)\n",
        "\n",
        "y_pred_df.plot()\n"
      ]
    },
    {
      "cell_type": "code",
      "execution_count": null,
      "metadata": {
        "id": "qQl6aD-3nhWK"
      },
      "outputs": [],
      "source": [
        "# Create autoregressive model for the all predicted horizon of test data"
      ]
    },
    {
      "cell_type": "code",
      "execution_count": null,
      "metadata": {
        "id": "TBjkeNMonhWK"
      },
      "outputs": [],
      "source": [
        "#Create the"
      ]
    },
    {
      "cell_type": "markdown",
      "metadata": {
        "id": "CcpcTf8KnhWK"
      },
      "source": [
        "### Use XGBoost model"
      ]
    },
    {
      "cell_type": "code",
      "execution_count": 27,
      "metadata": {
        "id": "D1BVVTZanhWL"
      },
      "outputs": [],
      "source": [
        "#Get and train on scaled data\n",
        "X_train_df=pd.DataFrame(X_train.reshape(X_train.shape[0], X_train.shape[1]*X_train.shape[2]))\n",
        "col_vals=[target_col]+extra_features\n",
        "cols_res=[]\n",
        "for c in col_vals:\n",
        "    for i in range(1, n_lags+1,1):\n",
        "        cols_res.append(f'{c}_{n_lags-i+1}')\n",
        "X_train_df.columns=cols_res\n",
        "train_ind=stock_price.iloc[n_lags:training_days].index\n",
        "\n",
        "X_train_df.index=train_ind\n",
        "y_train_df=pd.Series(y_train.squeeze(-1),index=train_ind)\n",
        "\n",
        "X_test_df=pd.DataFrame(X_test.reshape(X_test.shape[0], X_test.shape[1]*X_test.shape[2]))\n",
        "X_test_df.columns=cols_res"
      ]
    },
    {
      "cell_type": "code",
      "source": [
        "X_train_df.head()"
      ],
      "metadata": {
        "colab": {
          "base_uri": "https://localhost:8080/",
          "height": 235
        },
        "id": "Ks5zWl4Lqcc1",
        "outputId": "9e6c6d0f-e710-4bdd-8c0d-ee0f39bbe55a"
      },
      "execution_count": 31,
      "outputs": [
        {
          "output_type": "execute_result",
          "data": {
            "text/plain": [
              "             Close_5   Close_4   Close_3   Close_2  ...  Volume_4  Volume_3  Volume_2  Volume_1\n",
              "Unnamed: 0                                          ...                                        \n",
              "2021-09-16  0.475436  0.454909  0.462340  0.463986  ...  0.038704  0.124526  0.075611  0.040620\n",
              "2021-09-17  0.454909  0.462340  0.463986  0.476508  ...  0.124526  0.075611  0.040620  0.024775\n",
              "2021-09-20  0.462340  0.463986  0.476508  0.477788  ...  0.075611  0.040620  0.024775  0.182546\n",
              "2021-09-21  0.463986  0.476508  0.477788  0.480549  ...  0.040620  0.024775  0.182546  0.144470\n",
              "2021-09-22  0.476508  0.477788  0.480549  0.448173  ...  0.024775  0.182546  0.144470  0.051370\n",
              "\n",
              "[5 rows x 10 columns]"
            ],
            "text/html": [
              "\n",
              "  <div id=\"df-b61c2205-5789-4c6a-8e78-3d1fec9fb977\" class=\"colab-df-container\">\n",
              "    <div>\n",
              "<style scoped>\n",
              "    .dataframe tbody tr th:only-of-type {\n",
              "        vertical-align: middle;\n",
              "    }\n",
              "\n",
              "    .dataframe tbody tr th {\n",
              "        vertical-align: top;\n",
              "    }\n",
              "\n",
              "    .dataframe thead th {\n",
              "        text-align: right;\n",
              "    }\n",
              "</style>\n",
              "<table border=\"1\" class=\"dataframe\">\n",
              "  <thead>\n",
              "    <tr style=\"text-align: right;\">\n",
              "      <th></th>\n",
              "      <th>Close_5</th>\n",
              "      <th>Close_4</th>\n",
              "      <th>Close_3</th>\n",
              "      <th>Close_2</th>\n",
              "      <th>Close_1</th>\n",
              "      <th>Volume_5</th>\n",
              "      <th>Volume_4</th>\n",
              "      <th>Volume_3</th>\n",
              "      <th>Volume_2</th>\n",
              "      <th>Volume_1</th>\n",
              "    </tr>\n",
              "    <tr>\n",
              "      <th>Unnamed: 0</th>\n",
              "      <th></th>\n",
              "      <th></th>\n",
              "      <th></th>\n",
              "      <th></th>\n",
              "      <th></th>\n",
              "      <th></th>\n",
              "      <th></th>\n",
              "      <th></th>\n",
              "      <th></th>\n",
              "      <th></th>\n",
              "    </tr>\n",
              "  </thead>\n",
              "  <tbody>\n",
              "    <tr>\n",
              "      <th>2021-09-16</th>\n",
              "      <td>0.475436</td>\n",
              "      <td>0.454909</td>\n",
              "      <td>0.462340</td>\n",
              "      <td>0.463986</td>\n",
              "      <td>0.476508</td>\n",
              "      <td>0.026479</td>\n",
              "      <td>0.038704</td>\n",
              "      <td>0.124526</td>\n",
              "      <td>0.075611</td>\n",
              "      <td>0.040620</td>\n",
              "    </tr>\n",
              "    <tr>\n",
              "      <th>2021-09-17</th>\n",
              "      <td>0.454909</td>\n",
              "      <td>0.462340</td>\n",
              "      <td>0.463986</td>\n",
              "      <td>0.476508</td>\n",
              "      <td>0.477788</td>\n",
              "      <td>0.038704</td>\n",
              "      <td>0.124526</td>\n",
              "      <td>0.075611</td>\n",
              "      <td>0.040620</td>\n",
              "      <td>0.024775</td>\n",
              "    </tr>\n",
              "    <tr>\n",
              "      <th>2021-09-20</th>\n",
              "      <td>0.462340</td>\n",
              "      <td>0.463986</td>\n",
              "      <td>0.476508</td>\n",
              "      <td>0.477788</td>\n",
              "      <td>0.480549</td>\n",
              "      <td>0.124526</td>\n",
              "      <td>0.075611</td>\n",
              "      <td>0.040620</td>\n",
              "      <td>0.024775</td>\n",
              "      <td>0.182546</td>\n",
              "    </tr>\n",
              "    <tr>\n",
              "      <th>2021-09-21</th>\n",
              "      <td>0.463986</td>\n",
              "      <td>0.476508</td>\n",
              "      <td>0.477788</td>\n",
              "      <td>0.480549</td>\n",
              "      <td>0.448173</td>\n",
              "      <td>0.075611</td>\n",
              "      <td>0.040620</td>\n",
              "      <td>0.024775</td>\n",
              "      <td>0.182546</td>\n",
              "      <td>0.144470</td>\n",
              "    </tr>\n",
              "    <tr>\n",
              "      <th>2021-09-22</th>\n",
              "      <td>0.476508</td>\n",
              "      <td>0.477788</td>\n",
              "      <td>0.480549</td>\n",
              "      <td>0.448173</td>\n",
              "      <td>0.458343</td>\n",
              "      <td>0.040620</td>\n",
              "      <td>0.024775</td>\n",
              "      <td>0.182546</td>\n",
              "      <td>0.144470</td>\n",
              "      <td>0.051370</td>\n",
              "    </tr>\n",
              "  </tbody>\n",
              "</table>\n",
              "</div>\n",
              "    <div class=\"colab-df-buttons\">\n",
              "\n",
              "  <div class=\"colab-df-container\">\n",
              "    <button class=\"colab-df-convert\" onclick=\"convertToInteractive('df-b61c2205-5789-4c6a-8e78-3d1fec9fb977')\"\n",
              "            title=\"Convert this dataframe to an interactive table.\"\n",
              "            style=\"display:none;\">\n",
              "\n",
              "  <svg xmlns=\"http://www.w3.org/2000/svg\" height=\"24px\" viewBox=\"0 -960 960 960\">\n",
              "    <path d=\"M120-120v-720h720v720H120Zm60-500h600v-160H180v160Zm220 220h160v-160H400v160Zm0 220h160v-160H400v160ZM180-400h160v-160H180v160Zm440 0h160v-160H620v160ZM180-180h160v-160H180v160Zm440 0h160v-160H620v160Z\"/>\n",
              "  </svg>\n",
              "    </button>\n",
              "\n",
              "  <style>\n",
              "    .colab-df-container {\n",
              "      display:flex;\n",
              "      gap: 12px;\n",
              "    }\n",
              "\n",
              "    .colab-df-convert {\n",
              "      background-color: #E8F0FE;\n",
              "      border: none;\n",
              "      border-radius: 50%;\n",
              "      cursor: pointer;\n",
              "      display: none;\n",
              "      fill: #1967D2;\n",
              "      height: 32px;\n",
              "      padding: 0 0 0 0;\n",
              "      width: 32px;\n",
              "    }\n",
              "\n",
              "    .colab-df-convert:hover {\n",
              "      background-color: #E2EBFA;\n",
              "      box-shadow: 0px 1px 2px rgba(60, 64, 67, 0.3), 0px 1px 3px 1px rgba(60, 64, 67, 0.15);\n",
              "      fill: #174EA6;\n",
              "    }\n",
              "\n",
              "    .colab-df-buttons div {\n",
              "      margin-bottom: 4px;\n",
              "    }\n",
              "\n",
              "    [theme=dark] .colab-df-convert {\n",
              "      background-color: #3B4455;\n",
              "      fill: #D2E3FC;\n",
              "    }\n",
              "\n",
              "    [theme=dark] .colab-df-convert:hover {\n",
              "      background-color: #434B5C;\n",
              "      box-shadow: 0px 1px 3px 1px rgba(0, 0, 0, 0.15);\n",
              "      filter: drop-shadow(0px 1px 2px rgba(0, 0, 0, 0.3));\n",
              "      fill: #FFFFFF;\n",
              "    }\n",
              "  </style>\n",
              "\n",
              "    <script>\n",
              "      const buttonEl =\n",
              "        document.querySelector('#df-b61c2205-5789-4c6a-8e78-3d1fec9fb977 button.colab-df-convert');\n",
              "      buttonEl.style.display =\n",
              "        google.colab.kernel.accessAllowed ? 'block' : 'none';\n",
              "\n",
              "      async function convertToInteractive(key) {\n",
              "        const element = document.querySelector('#df-b61c2205-5789-4c6a-8e78-3d1fec9fb977');\n",
              "        const dataTable =\n",
              "          await google.colab.kernel.invokeFunction('convertToInteractive',\n",
              "                                                    [key], {});\n",
              "        if (!dataTable) return;\n",
              "\n",
              "        const docLinkHtml = 'Like what you see? Visit the ' +\n",
              "          '<a target=\"_blank\" href=https://colab.research.google.com/notebooks/data_table.ipynb>data table notebook</a>'\n",
              "          + ' to learn more about interactive tables.';\n",
              "        element.innerHTML = '';\n",
              "        dataTable['output_type'] = 'display_data';\n",
              "        await google.colab.output.renderOutput(dataTable, element);\n",
              "        const docLink = document.createElement('div');\n",
              "        docLink.innerHTML = docLinkHtml;\n",
              "        element.appendChild(docLink);\n",
              "      }\n",
              "    </script>\n",
              "  </div>\n",
              "\n",
              "\n",
              "<div id=\"df-6a4d78ff-23b8-4616-93f0-5fdd4f1a215c\">\n",
              "  <button class=\"colab-df-quickchart\" onclick=\"quickchart('df-6a4d78ff-23b8-4616-93f0-5fdd4f1a215c')\"\n",
              "            title=\"Suggest charts\"\n",
              "            style=\"display:none;\">\n",
              "\n",
              "<svg xmlns=\"http://www.w3.org/2000/svg\" height=\"24px\"viewBox=\"0 0 24 24\"\n",
              "     width=\"24px\">\n",
              "    <g>\n",
              "        <path d=\"M19 3H5c-1.1 0-2 .9-2 2v14c0 1.1.9 2 2 2h14c1.1 0 2-.9 2-2V5c0-1.1-.9-2-2-2zM9 17H7v-7h2v7zm4 0h-2V7h2v10zm4 0h-2v-4h2v4z\"/>\n",
              "    </g>\n",
              "</svg>\n",
              "  </button>\n",
              "\n",
              "<style>\n",
              "  .colab-df-quickchart {\n",
              "      --bg-color: #E8F0FE;\n",
              "      --fill-color: #1967D2;\n",
              "      --hover-bg-color: #E2EBFA;\n",
              "      --hover-fill-color: #174EA6;\n",
              "      --disabled-fill-color: #AAA;\n",
              "      --disabled-bg-color: #DDD;\n",
              "  }\n",
              "\n",
              "  [theme=dark] .colab-df-quickchart {\n",
              "      --bg-color: #3B4455;\n",
              "      --fill-color: #D2E3FC;\n",
              "      --hover-bg-color: #434B5C;\n",
              "      --hover-fill-color: #FFFFFF;\n",
              "      --disabled-bg-color: #3B4455;\n",
              "      --disabled-fill-color: #666;\n",
              "  }\n",
              "\n",
              "  .colab-df-quickchart {\n",
              "    background-color: var(--bg-color);\n",
              "    border: none;\n",
              "    border-radius: 50%;\n",
              "    cursor: pointer;\n",
              "    display: none;\n",
              "    fill: var(--fill-color);\n",
              "    height: 32px;\n",
              "    padding: 0;\n",
              "    width: 32px;\n",
              "  }\n",
              "\n",
              "  .colab-df-quickchart:hover {\n",
              "    background-color: var(--hover-bg-color);\n",
              "    box-shadow: 0 1px 2px rgba(60, 64, 67, 0.3), 0 1px 3px 1px rgba(60, 64, 67, 0.15);\n",
              "    fill: var(--button-hover-fill-color);\n",
              "  }\n",
              "\n",
              "  .colab-df-quickchart-complete:disabled,\n",
              "  .colab-df-quickchart-complete:disabled:hover {\n",
              "    background-color: var(--disabled-bg-color);\n",
              "    fill: var(--disabled-fill-color);\n",
              "    box-shadow: none;\n",
              "  }\n",
              "\n",
              "  .colab-df-spinner {\n",
              "    border: 2px solid var(--fill-color);\n",
              "    border-color: transparent;\n",
              "    border-bottom-color: var(--fill-color);\n",
              "    animation:\n",
              "      spin 1s steps(1) infinite;\n",
              "  }\n",
              "\n",
              "  @keyframes spin {\n",
              "    0% {\n",
              "      border-color: transparent;\n",
              "      border-bottom-color: var(--fill-color);\n",
              "      border-left-color: var(--fill-color);\n",
              "    }\n",
              "    20% {\n",
              "      border-color: transparent;\n",
              "      border-left-color: var(--fill-color);\n",
              "      border-top-color: var(--fill-color);\n",
              "    }\n",
              "    30% {\n",
              "      border-color: transparent;\n",
              "      border-left-color: var(--fill-color);\n",
              "      border-top-color: var(--fill-color);\n",
              "      border-right-color: var(--fill-color);\n",
              "    }\n",
              "    40% {\n",
              "      border-color: transparent;\n",
              "      border-right-color: var(--fill-color);\n",
              "      border-top-color: var(--fill-color);\n",
              "    }\n",
              "    60% {\n",
              "      border-color: transparent;\n",
              "      border-right-color: var(--fill-color);\n",
              "    }\n",
              "    80% {\n",
              "      border-color: transparent;\n",
              "      border-right-color: var(--fill-color);\n",
              "      border-bottom-color: var(--fill-color);\n",
              "    }\n",
              "    90% {\n",
              "      border-color: transparent;\n",
              "      border-bottom-color: var(--fill-color);\n",
              "    }\n",
              "  }\n",
              "</style>\n",
              "\n",
              "  <script>\n",
              "    async function quickchart(key) {\n",
              "      const quickchartButtonEl =\n",
              "        document.querySelector('#' + key + ' button');\n",
              "      quickchartButtonEl.disabled = true;  // To prevent multiple clicks.\n",
              "      quickchartButtonEl.classList.add('colab-df-spinner');\n",
              "      try {\n",
              "        const charts = await google.colab.kernel.invokeFunction(\n",
              "            'suggestCharts', [key], {});\n",
              "      } catch (error) {\n",
              "        console.error('Error during call to suggestCharts:', error);\n",
              "      }\n",
              "      quickchartButtonEl.classList.remove('colab-df-spinner');\n",
              "      quickchartButtonEl.classList.add('colab-df-quickchart-complete');\n",
              "    }\n",
              "    (() => {\n",
              "      let quickchartButtonEl =\n",
              "        document.querySelector('#df-6a4d78ff-23b8-4616-93f0-5fdd4f1a215c button');\n",
              "      quickchartButtonEl.style.display =\n",
              "        google.colab.kernel.accessAllowed ? 'block' : 'none';\n",
              "    })();\n",
              "  </script>\n",
              "</div>\n",
              "\n",
              "    </div>\n",
              "  </div>\n"
            ],
            "application/vnd.google.colaboratory.intrinsic+json": {
              "type": "dataframe",
              "variable_name": "X_train_df",
              "summary": "{\n  \"name\": \"X_train_df\",\n  \"rows\": 517,\n  \"fields\": [\n    {\n      \"column\": \"Unnamed: 0\",\n      \"properties\": {\n        \"dtype\": \"date\",\n        \"min\": \"2021-09-16 00:00:00\",\n        \"max\": \"2023-10-05 00:00:00\",\n        \"num_unique_values\": 517,\n        \"samples\": [\n          \"2022-11-30 00:00:00\",\n          \"2023-09-14 00:00:00\",\n          \"2023-06-20 00:00:00\"\n        ],\n        \"semantic_type\": \"\",\n        \"description\": \"\"\n      }\n    },\n    {\n      \"column\": \"Close_5\",\n      \"properties\": {\n        \"dtype\": \"number\",\n        \"std\": 0.21278616828692756,\n        \"min\": 0.0,\n        \"max\": 1.0,\n        \"num_unique_values\": 513,\n        \"samples\": [\n          0.24878258121316899,\n          0.49156918676953254,\n          0.49892334982152287\n        ],\n        \"semantic_type\": \"\",\n        \"description\": \"\"\n      }\n    },\n    {\n      \"column\": \"Close_4\",\n      \"properties\": {\n        \"dtype\": \"number\",\n        \"std\": 0.21278642898104086,\n        \"min\": 0.0,\n        \"max\": 1.0,\n        \"num_unique_values\": 513,\n        \"samples\": [\n          0.24765628070368773,\n          0.47643024608695617,\n          0.4925630526979692\n        ],\n        \"semantic_type\": \"\",\n        \"description\": \"\"\n      }\n    },\n    {\n      \"column\": \"Close_3\",\n      \"properties\": {\n        \"dtype\": \"number\",\n        \"std\": 0.21278378920861538,\n        \"min\": 0.0,\n        \"max\": 1.0,\n        \"num_unique_values\": 513,\n        \"samples\": [\n          0.24785503367035489,\n          0.47500581612747395,\n          0.48961471520057087\n        ],\n        \"semantic_type\": \"\",\n        \"description\": \"\"\n      }\n    },\n    {\n      \"column\": \"Close_2\",\n      \"properties\": {\n        \"dtype\": \"number\",\n        \"std\": 0.21278443611953515,\n        \"min\": 0.0,\n        \"max\": 1.0,\n        \"num_unique_values\": 513,\n        \"samples\": [\n          0.24093153574451043,\n          0.46510087205896977,\n          0.5049856185901758\n        ],\n        \"semantic_type\": \"\",\n        \"description\": \"\"\n      }\n    },\n    {\n      \"column\": \"Close_1\",\n      \"properties\": {\n        \"dtype\": \"number\",\n        \"std\": 0.2127868490866079,\n        \"min\": 0.0,\n        \"max\": 1.0,\n        \"num_unique_values\": 513,\n        \"samples\": [\n          0.28687844994926914,\n          0.5481829482642034,\n          0.5510650684710794\n        ],\n        \"semantic_type\": \"\",\n        \"description\": \"\"\n      }\n    },\n    {\n      \"column\": \"Volume_5\",\n      \"properties\": {\n        \"dtype\": \"number\",\n        \"std\": 0.16185961393251225,\n        \"min\": 0.0,\n        \"max\": 1.0,\n        \"num_unique_values\": 517,\n        \"samples\": [\n          0.15985982583551558,\n          0.29560235965735693,\n          0.4245851284432691\n        ],\n        \"semantic_type\": \"\",\n        \"description\": \"\"\n      }\n    },\n    {\n      \"column\": \"Volume_4\",\n      \"properties\": {\n        \"dtype\": \"number\",\n        \"std\": 0.16157727580901454,\n        \"min\": 0.0,\n        \"max\": 1.0,\n        \"num_unique_values\": 517,\n        \"samples\": [\n          0.27433097438794407,\n          0.30685194030224505,\n          0.4689470992042287\n        ],\n        \"semantic_type\": \"\",\n        \"description\": \"\"\n      }\n    },\n    {\n      \"column\": \"Volume_3\",\n      \"properties\": {\n        \"dtype\": \"number\",\n        \"std\": 0.1613104834847625,\n        \"min\": 0.0,\n        \"max\": 1.0,\n        \"num_unique_values\": 517,\n        \"samples\": [\n          0.05755890581367043,\n          0.5141825806791361,\n          0.4991119430494583\n        ],\n        \"semantic_type\": \"\",\n        \"description\": \"\"\n      }\n    },\n    {\n      \"column\": \"Volume_2\",\n      \"properties\": {\n        \"dtype\": \"number\",\n        \"std\": 0.16120082742206018,\n        \"min\": 0.0,\n        \"max\": 1.0,\n        \"num_unique_values\": 517,\n        \"samples\": [\n          0.21308395314417825,\n          0.371784130902872,\n          0.46079715586089964\n        ],\n        \"semantic_type\": \"\",\n        \"description\": \"\"\n      }\n    },\n    {\n      \"column\": \"Volume_1\",\n      \"properties\": {\n        \"dtype\": \"number\",\n        \"std\": 0.16104134053881775,\n        \"min\": 0.0,\n        \"max\": 1.0,\n        \"num_unique_values\": 517,\n        \"samples\": [\n          0.17792220083454888,\n          0.2822006725148676,\n          0.48802071384090984\n        ],\n        \"semantic_type\": \"\",\n        \"description\": \"\"\n      }\n    }\n  ]\n}"
            }
          },
          "metadata": {},
          "execution_count": 31
        }
      ]
    },
    {
      "cell_type": "code",
      "source": [],
      "metadata": {
        "id": "I7LVXOU5qnEl"
      },
      "execution_count": null,
      "outputs": []
    },
    {
      "cell_type": "code",
      "execution_count": 28,
      "metadata": {
        "colab": {
          "base_uri": "https://localhost:8080/",
          "height": 244
        },
        "id": "h4QbmZc4nhWL",
        "outputId": "b9cbe3ec-150a-4e92-87de-1c06a2e68c55"
      },
      "outputs": [
        {
          "output_type": "execute_result",
          "data": {
            "text/plain": [
              "XGBRegressor(base_score=None, booster=None, callbacks=None,\n",
              "             colsample_bylevel=None, colsample_bynode=None,\n",
              "             colsample_bytree=None, device=None, early_stopping_rounds=None,\n",
              "             enable_categorical=False, eval_metric=None, feature_types=None,\n",
              "             gamma=None, grow_policy=None, importance_type=None,\n",
              "             interaction_constraints=None, learning_rate=None, max_bin=None,\n",
              "             max_cat_threshold=None, max_cat_to_onehot=None,\n",
              "             max_delta_step=None, max_depth=None, max_leaves=None,\n",
              "             min_child_weight=None, missing=nan, monotone_constraints=None,\n",
              "             multi_strategy=None, n_estimators=None, n_jobs=None,\n",
              "             num_parallel_tree=None, random_state=None, ...)"
            ],
            "text/html": [
              "<style>#sk-container-id-1 {color: black;background-color: white;}#sk-container-id-1 pre{padding: 0;}#sk-container-id-1 div.sk-toggleable {background-color: white;}#sk-container-id-1 label.sk-toggleable__label {cursor: pointer;display: block;width: 100%;margin-bottom: 0;padding: 0.3em;box-sizing: border-box;text-align: center;}#sk-container-id-1 label.sk-toggleable__label-arrow:before {content: \"▸\";float: left;margin-right: 0.25em;color: #696969;}#sk-container-id-1 label.sk-toggleable__label-arrow:hover:before {color: black;}#sk-container-id-1 div.sk-estimator:hover label.sk-toggleable__label-arrow:before {color: black;}#sk-container-id-1 div.sk-toggleable__content {max-height: 0;max-width: 0;overflow: hidden;text-align: left;background-color: #f0f8ff;}#sk-container-id-1 div.sk-toggleable__content pre {margin: 0.2em;color: black;border-radius: 0.25em;background-color: #f0f8ff;}#sk-container-id-1 input.sk-toggleable__control:checked~div.sk-toggleable__content {max-height: 200px;max-width: 100%;overflow: auto;}#sk-container-id-1 input.sk-toggleable__control:checked~label.sk-toggleable__label-arrow:before {content: \"▾\";}#sk-container-id-1 div.sk-estimator input.sk-toggleable__control:checked~label.sk-toggleable__label {background-color: #d4ebff;}#sk-container-id-1 div.sk-label input.sk-toggleable__control:checked~label.sk-toggleable__label {background-color: #d4ebff;}#sk-container-id-1 input.sk-hidden--visually {border: 0;clip: rect(1px 1px 1px 1px);clip: rect(1px, 1px, 1px, 1px);height: 1px;margin: -1px;overflow: hidden;padding: 0;position: absolute;width: 1px;}#sk-container-id-1 div.sk-estimator {font-family: monospace;background-color: #f0f8ff;border: 1px dotted black;border-radius: 0.25em;box-sizing: border-box;margin-bottom: 0.5em;}#sk-container-id-1 div.sk-estimator:hover {background-color: #d4ebff;}#sk-container-id-1 div.sk-parallel-item::after {content: \"\";width: 100%;border-bottom: 1px solid gray;flex-grow: 1;}#sk-container-id-1 div.sk-label:hover label.sk-toggleable__label {background-color: #d4ebff;}#sk-container-id-1 div.sk-serial::before {content: \"\";position: absolute;border-left: 1px solid gray;box-sizing: border-box;top: 0;bottom: 0;left: 50%;z-index: 0;}#sk-container-id-1 div.sk-serial {display: flex;flex-direction: column;align-items: center;background-color: white;padding-right: 0.2em;padding-left: 0.2em;position: relative;}#sk-container-id-1 div.sk-item {position: relative;z-index: 1;}#sk-container-id-1 div.sk-parallel {display: flex;align-items: stretch;justify-content: center;background-color: white;position: relative;}#sk-container-id-1 div.sk-item::before, #sk-container-id-1 div.sk-parallel-item::before {content: \"\";position: absolute;border-left: 1px solid gray;box-sizing: border-box;top: 0;bottom: 0;left: 50%;z-index: -1;}#sk-container-id-1 div.sk-parallel-item {display: flex;flex-direction: column;z-index: 1;position: relative;background-color: white;}#sk-container-id-1 div.sk-parallel-item:first-child::after {align-self: flex-end;width: 50%;}#sk-container-id-1 div.sk-parallel-item:last-child::after {align-self: flex-start;width: 50%;}#sk-container-id-1 div.sk-parallel-item:only-child::after {width: 0;}#sk-container-id-1 div.sk-dashed-wrapped {border: 1px dashed gray;margin: 0 0.4em 0.5em 0.4em;box-sizing: border-box;padding-bottom: 0.4em;background-color: white;}#sk-container-id-1 div.sk-label label {font-family: monospace;font-weight: bold;display: inline-block;line-height: 1.2em;}#sk-container-id-1 div.sk-label-container {text-align: center;}#sk-container-id-1 div.sk-container {/* jupyter's `normalize.less` sets `[hidden] { display: none; }` but bootstrap.min.css set `[hidden] { display: none !important; }` so we also need the `!important` here to be able to override the default hidden behavior on the sphinx rendered scikit-learn.org. See: https://github.com/scikit-learn/scikit-learn/issues/21755 */display: inline-block !important;position: relative;}#sk-container-id-1 div.sk-text-repr-fallback {display: none;}</style><div id=\"sk-container-id-1\" class=\"sk-top-container\"><div class=\"sk-text-repr-fallback\"><pre>XGBRegressor(base_score=None, booster=None, callbacks=None,\n",
              "             colsample_bylevel=None, colsample_bynode=None,\n",
              "             colsample_bytree=None, device=None, early_stopping_rounds=None,\n",
              "             enable_categorical=False, eval_metric=None, feature_types=None,\n",
              "             gamma=None, grow_policy=None, importance_type=None,\n",
              "             interaction_constraints=None, learning_rate=None, max_bin=None,\n",
              "             max_cat_threshold=None, max_cat_to_onehot=None,\n",
              "             max_delta_step=None, max_depth=None, max_leaves=None,\n",
              "             min_child_weight=None, missing=nan, monotone_constraints=None,\n",
              "             multi_strategy=None, n_estimators=None, n_jobs=None,\n",
              "             num_parallel_tree=None, random_state=None, ...)</pre><b>In a Jupyter environment, please rerun this cell to show the HTML representation or trust the notebook. <br />On GitHub, the HTML representation is unable to render, please try loading this page with nbviewer.org.</b></div><div class=\"sk-container\" hidden><div class=\"sk-item\"><div class=\"sk-estimator sk-toggleable\"><input class=\"sk-toggleable__control sk-hidden--visually\" id=\"sk-estimator-id-1\" type=\"checkbox\" checked><label for=\"sk-estimator-id-1\" class=\"sk-toggleable__label sk-toggleable__label-arrow\">XGBRegressor</label><div class=\"sk-toggleable__content\"><pre>XGBRegressor(base_score=None, booster=None, callbacks=None,\n",
              "             colsample_bylevel=None, colsample_bynode=None,\n",
              "             colsample_bytree=None, device=None, early_stopping_rounds=None,\n",
              "             enable_categorical=False, eval_metric=None, feature_types=None,\n",
              "             gamma=None, grow_policy=None, importance_type=None,\n",
              "             interaction_constraints=None, learning_rate=None, max_bin=None,\n",
              "             max_cat_threshold=None, max_cat_to_onehot=None,\n",
              "             max_delta_step=None, max_depth=None, max_leaves=None,\n",
              "             min_child_weight=None, missing=nan, monotone_constraints=None,\n",
              "             multi_strategy=None, n_estimators=None, n_jobs=None,\n",
              "             num_parallel_tree=None, random_state=None, ...)</pre></div></div></div></div></div>"
            ]
          },
          "metadata": {},
          "execution_count": 28
        }
      ],
      "source": [
        "from xgboost import XGBRegressor\n",
        "model = XGBRegressor()\n",
        "model.fit(X_train_df,y_train_df )"
      ]
    },
    {
      "cell_type": "code",
      "execution_count": 29,
      "metadata": {
        "id": "8cQQgyNCnhWL"
      },
      "outputs": [],
      "source": [
        "xgb_pred=model.predict(X_test_df)\n",
        "sc=sc_extra[target_col]\n",
        "xgb_pred=sc.inverse_transform(xgb_pred.reshape(len(xgb_pred),1))\n"
      ]
    },
    {
      "cell_type": "code",
      "execution_count": 30,
      "metadata": {
        "colab": {
          "base_uri": "https://localhost:8080/",
          "height": 431
        },
        "id": "7WCzO5mZnhWL",
        "outputId": "86b08818-b0ae-47b1-9c8b-33123867f078"
      },
      "outputs": [
        {
          "output_type": "execute_result",
          "data": {
            "text/plain": [
              "<Axes: >"
            ]
          },
          "metadata": {},
          "execution_count": 30
        },
        {
          "output_type": "display_data",
          "data": {
            "text/plain": [
              "<Figure size 640x480 with 1 Axes>"
            ],
            "image/png": "[encoded data removed]"
          },
          "metadata": {}
        }
      ],
      "source": [
        "xgb_pred_df=pd.DataFrame({'xgb_forecast':xgb_pred.reshape(-1),\n",
        "                        'real':real_stock_price[target_col].values},\n",
        "                        index=real_stock_price.index.values)\n",
        "\n",
        "xgb_pred_df.plot()"
      ]
    },
    {
      "cell_type": "code",
      "execution_count": null,
      "metadata": {
        "id": "06P-jOoqnhWL"
      },
      "outputs": [],
      "source": []
    }
  ],
  "metadata": {
    "kernelspec": {
      "display_name": "Python 3",
      "name": "python3"
    },
    "language_info": {
      "codemirror_mode": {
        "name": "ipython",
        "version": 3
      },
      "file_extension": ".py",
      "mimetype": "text/x-python",
      "name": "python",
      "nbconvert_exporter": "python",
      "pygments_lexer": "ipython3",
      "version": "3.12.2"
    },
    "colab": {
      "provenance": [],
      "include_colab_link": true
    }
  },
  "nbformat": 4,
  "nbformat_minor": 0
}
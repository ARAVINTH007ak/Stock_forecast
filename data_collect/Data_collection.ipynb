{
 "cells": [
  {
   "cell_type": "markdown",
   "metadata": {},
   "source": [
    "### Collect historical data from yahoo finance"
   ]
  },
  {
   "cell_type": "code",
   "execution_count": 4,
   "metadata": {},
   "outputs": [],
   "source": [
    "import yfinance as yf\n",
    "import pandas as pd\n",
    "## Getting stock price data\n",
    "#\n",
    "def prepPrices(price_history,  mov_avg=0, target_col='Close'):\n",
    "        \n",
    "    # Filling NaNs with the most recent values for any missing data\n",
    "    prices = price_history.fillna(method='ffill')\n",
    "    \n",
    "    # Getting the N Day Moving Average and rounding the values for some light data preprocessing\n",
    "    if mov_avg>0:\n",
    "        prices['MA'] = prices[[target_col]].rolling(\n",
    "        window=mov_avg).mean().apply(lambda x: round(x, 2))\n",
    "    # Dropping the Nans\n",
    "    prices.dropna(inplace=True)\n",
    "    #ignore time in index to merge with other datasets later\n",
    "    if isinstance(price_history.index, pd.DatetimeIndex):\n",
    "        prices.index=[pd.to_datetime(str(x).split('T')[0]) for x in prices.index.values]\n",
    "    else:\n",
    "       prices.index=[pd.to_datetime(str(x).split()[0]) for x in prices.index.values]\n",
    "    prices.index=prices.index.tz_localize(None)\n",
    " \n",
    "    return prices\n",
    "\n",
    "def getStockPrices(stock, history_len, mov_avg, target_col='Close'):\n",
    "    \"\"\"\n",
    "    Gets stock prices from now to N days ago and training amount will be in addition \n",
    "    to the number of days to train.\n",
    "    \"\"\"\n",
    "    \n",
    "    # Designating the Ticker\n",
    "    ticker = yf.Ticker(stock)\n",
    "\n",
    "    # Getting all price history\n",
    "    price_history = ticker.history(period=history_len)\n",
    "    \n",
    "    # Check on length\n",
    "    #if len(price_history)<n_days+training_days+mov_avg:\n",
    "    #    return pd.DataFrame(), price_history\n",
    "    \n",
    "    prices=prepPrices(price_history, mov_avg, target_col)\n",
    "\n",
    "    return price_history, prices\n"
   ]
  },
  {
   "cell_type": "code",
   "execution_count": 5,
   "metadata": {},
   "outputs": [
    {
     "name": "stderr",
     "output_type": "stream",
     "text": [
      "/var/folders/0n/zbn05tys7vxf2qmpt5ky41h80000gq/T/ipykernel_6964/2197951817.py:8: FutureWarning: DataFrame.fillna with 'method' is deprecated and will raise in a future version. Use obj.ffill() or obj.bfill() instead.\n",
      "  prices = price_history.fillna(method='ffill')\n"
     ]
    }
   ],
   "source": [
    "ticker='TSLA'\n",
    "n_days=700\n",
    "history_len=f'{n_days}d'\n",
    "history_len='2y'\n",
    "orig_stock, stock_prices = getStockPrices(ticker, history_len, mov_avg=5, target_col='Close') "
   ]
  },
  {
   "cell_type": "code",
   "execution_count": 6,
   "metadata": {},
   "outputs": [
    {
     "data": {
      "text/html": [
       "<div>\n",
       "<style scoped>\n",
       "    .dataframe tbody tr th:only-of-type {\n",
       "        vertical-align: middle;\n",
       "    }\n",
       "\n",
       "    .dataframe tbody tr th {\n",
       "        vertical-align: top;\n",
       "    }\n",
       "\n",
       "    .dataframe thead th {\n",
       "        text-align: right;\n",
       "    }\n",
       "</style>\n",
       "<table border=\"1\" class=\"dataframe\">\n",
       "  <thead>\n",
       "    <tr style=\"text-align: right;\">\n",
       "      <th></th>\n",
       "      <th>Open</th>\n",
       "      <th>High</th>\n",
       "      <th>Low</th>\n",
       "      <th>Close</th>\n",
       "      <th>Volume</th>\n",
       "      <th>Dividends</th>\n",
       "      <th>Stock Splits</th>\n",
       "      <th>MA</th>\n",
       "    </tr>\n",
       "  </thead>\n",
       "  <tbody>\n",
       "    <tr>\n",
       "      <th>2022-06-27</th>\n",
       "      <td>249.366669</td>\n",
       "      <td>252.070007</td>\n",
       "      <td>242.566666</td>\n",
       "      <td>244.919998</td>\n",
       "      <td>89178300</td>\n",
       "      <td>0.0</td>\n",
       "      <td>0.0</td>\n",
       "      <td>239.76</td>\n",
       "    </tr>\n",
       "    <tr>\n",
       "      <th>2022-06-28</th>\n",
       "      <td>244.483337</td>\n",
       "      <td>249.970001</td>\n",
       "      <td>232.343338</td>\n",
       "      <td>232.663330</td>\n",
       "      <td>90391200</td>\n",
       "      <td>0.0</td>\n",
       "      <td>0.0</td>\n",
       "      <td>238.89</td>\n",
       "    </tr>\n",
       "    <tr>\n",
       "      <th>2022-06-29</th>\n",
       "      <td>230.500000</td>\n",
       "      <td>231.173340</td>\n",
       "      <td>222.273331</td>\n",
       "      <td>228.490005</td>\n",
       "      <td>82897200</td>\n",
       "      <td>0.0</td>\n",
       "      <td>0.0</td>\n",
       "      <td>237.37</td>\n",
       "    </tr>\n",
       "    <tr>\n",
       "      <th>2022-06-30</th>\n",
       "      <td>224.509995</td>\n",
       "      <td>229.456665</td>\n",
       "      <td>218.863327</td>\n",
       "      <td>224.473328</td>\n",
       "      <td>94600500</td>\n",
       "      <td>0.0</td>\n",
       "      <td>0.0</td>\n",
       "      <td>235.25</td>\n",
       "    </tr>\n",
       "    <tr>\n",
       "      <th>2022-07-01</th>\n",
       "      <td>227.000000</td>\n",
       "      <td>230.229996</td>\n",
       "      <td>222.119995</td>\n",
       "      <td>227.263336</td>\n",
       "      <td>74460300</td>\n",
       "      <td>0.0</td>\n",
       "      <td>0.0</td>\n",
       "      <td>231.56</td>\n",
       "    </tr>\n",
       "    <tr>\n",
       "      <th>...</th>\n",
       "      <td>...</td>\n",
       "      <td>...</td>\n",
       "      <td>...</td>\n",
       "      <td>...</td>\n",
       "      <td>...</td>\n",
       "      <td>...</td>\n",
       "      <td>...</td>\n",
       "      <td>...</td>\n",
       "    </tr>\n",
       "    <tr>\n",
       "      <th>2024-06-11</th>\n",
       "      <td>173.919998</td>\n",
       "      <td>174.750000</td>\n",
       "      <td>167.410004</td>\n",
       "      <td>170.660004</td>\n",
       "      <td>64761900</td>\n",
       "      <td>0.0</td>\n",
       "      <td>0.0</td>\n",
       "      <td>174.97</td>\n",
       "    </tr>\n",
       "    <tr>\n",
       "      <th>2024-06-12</th>\n",
       "      <td>171.119995</td>\n",
       "      <td>180.550003</td>\n",
       "      <td>169.800003</td>\n",
       "      <td>177.289993</td>\n",
       "      <td>90389400</td>\n",
       "      <td>0.0</td>\n",
       "      <td>0.0</td>\n",
       "      <td>175.43</td>\n",
       "    </tr>\n",
       "    <tr>\n",
       "      <th>2024-06-13</th>\n",
       "      <td>188.389999</td>\n",
       "      <td>191.080002</td>\n",
       "      <td>181.229996</td>\n",
       "      <td>182.470001</td>\n",
       "      <td>118984100</td>\n",
       "      <td>0.0</td>\n",
       "      <td>0.0</td>\n",
       "      <td>176.34</td>\n",
       "    </tr>\n",
       "    <tr>\n",
       "      <th>2024-06-14</th>\n",
       "      <td>185.800003</td>\n",
       "      <td>186.000000</td>\n",
       "      <td>176.919998</td>\n",
       "      <td>178.009995</td>\n",
       "      <td>81361700</td>\n",
       "      <td>0.0</td>\n",
       "      <td>0.0</td>\n",
       "      <td>176.44</td>\n",
       "    </tr>\n",
       "    <tr>\n",
       "      <th>2024-06-17</th>\n",
       "      <td>177.949997</td>\n",
       "      <td>188.809998</td>\n",
       "      <td>177.000000</td>\n",
       "      <td>187.440002</td>\n",
       "      <td>108853285</td>\n",
       "      <td>0.0</td>\n",
       "      <td>0.0</td>\n",
       "      <td>179.17</td>\n",
       "    </tr>\n",
       "  </tbody>\n",
       "</table>\n",
       "<p>497 rows × 8 columns</p>\n",
       "</div>"
      ],
      "text/plain": [
       "                  Open        High         Low       Close     Volume  \\\n",
       "2022-06-27  249.366669  252.070007  242.566666  244.919998   89178300   \n",
       "2022-06-28  244.483337  249.970001  232.343338  232.663330   90391200   \n",
       "2022-06-29  230.500000  231.173340  222.273331  228.490005   82897200   \n",
       "2022-06-30  224.509995  229.456665  218.863327  224.473328   94600500   \n",
       "2022-07-01  227.000000  230.229996  222.119995  227.263336   74460300   \n",
       "...                ...         ...         ...         ...        ...   \n",
       "2024-06-11  173.919998  174.750000  167.410004  170.660004   64761900   \n",
       "2024-06-12  171.119995  180.550003  169.800003  177.289993   90389400   \n",
       "2024-06-13  188.389999  191.080002  181.229996  182.470001  118984100   \n",
       "2024-06-14  185.800003  186.000000  176.919998  178.009995   81361700   \n",
       "2024-06-17  177.949997  188.809998  177.000000  187.440002  108853285   \n",
       "\n",
       "            Dividends  Stock Splits      MA  \n",
       "2022-06-27        0.0           0.0  239.76  \n",
       "2022-06-28        0.0           0.0  238.89  \n",
       "2022-06-29        0.0           0.0  237.37  \n",
       "2022-06-30        0.0           0.0  235.25  \n",
       "2022-07-01        0.0           0.0  231.56  \n",
       "...               ...           ...     ...  \n",
       "2024-06-11        0.0           0.0  174.97  \n",
       "2024-06-12        0.0           0.0  175.43  \n",
       "2024-06-13        0.0           0.0  176.34  \n",
       "2024-06-14        0.0           0.0  176.44  \n",
       "2024-06-17        0.0           0.0  179.17  \n",
       "\n",
       "[497 rows x 8 columns]"
      ]
     },
     "execution_count": 6,
     "metadata": {},
     "output_type": "execute_result"
    }
   ],
   "source": [
    "stock_prices"
   ]
  },
  {
   "cell_type": "code",
   "execution_count": 7,
   "metadata": {},
   "outputs": [],
   "source": [
    "stock_prices.to_csv(f'../data/{ticker}.csv')"
   ]
  },
  {
   "cell_type": "code",
   "execution_count": 8,
   "metadata": {},
   "outputs": [
    {
     "data": {
      "text/plain": [
       "'2022-06-27'"
      ]
     },
     "execution_count": 8,
     "metadata": {},
     "output_type": "execute_result"
    }
   ],
   "source": [
    "str(stock_prices.index.min()).split()[0]"
   ]
  },
  {
   "cell_type": "markdown",
   "metadata": {},
   "source": [
    "### Collect historical news from The GDELT"
   ]
  },
  {
   "cell_type": "code",
   "execution_count": 9,
   "metadata": {},
   "outputs": [
    {
     "name": "stdout",
     "output_type": "stream",
     "text": [
      "2022-06-27 00:00:00\n",
      "2022-07-27 00:00:00\n",
      "2022-08-26 00:00:00\n",
      "2022-09-25 00:00:00\n",
      "2022-10-25 00:00:00\n",
      "2022-11-24 00:00:00\n",
      "2022-12-24 00:00:00\n",
      "2023-01-23 00:00:00\n",
      "2023-02-22 00:00:00\n",
      "2023-03-24 00:00:00\n",
      "2023-04-23 00:00:00\n",
      "2023-05-23 00:00:00\n",
      "2023-06-22 00:00:00\n",
      "2023-07-22 00:00:00\n",
      "2023-08-21 00:00:00\n",
      "2023-09-20 00:00:00\n",
      "2023-10-20 00:00:00\n",
      "2023-11-19 00:00:00\n",
      "2023-12-19 00:00:00\n",
      "2024-01-18 00:00:00\n",
      "2024-02-17 00:00:00\n",
      "2024-03-18 00:00:00\n",
      "2024-04-17 00:00:00\n",
      "2024-05-17 00:00:00\n",
      "2024-06-16 00:00:00\n"
     ]
    }
   ],
   "source": [
    "from gdeltdoc import GdeltDoc, Filters\n",
    "import numpy as np\n",
    "import datetime\n",
    "\n",
    "\n",
    "news_data=[]\n",
    "news_vol=[]\n",
    "start=stock_prices.index.min()\n",
    "while start.date()<datetime.datetime.today().date():\n",
    "    print(start)\n",
    "    end=np.min([(start+datetime.timedelta(days=30)),datetime.datetime.today()])\n",
    "    f = Filters(\n",
    "        keyword = \"Tesla tsla\",\n",
    "        start_date = str(start).split()[0],\n",
    "        end_date = str(end).split()[0]\n",
    "    )\n",
    "\n",
    "    gd = GdeltDoc()\n",
    "\n",
    "    # Search for articles matching the filters\n",
    "    articles = gd.article_search(f)\n",
    "\n",
    "    # Get a timeline of the number of articles matching the filters\n",
    "    timeline = gd.timeline_search(\"timelinevol\", f)\n",
    "    news_data.append(articles)\n",
    "    news_vol.append(timeline)\n",
    "    start=end\n"
   ]
  },
  {
   "cell_type": "code",
   "execution_count": 10,
   "metadata": {},
   "outputs": [
    {
     "data": {
      "text/plain": [
       "(6012, 9)"
      ]
     },
     "execution_count": 10,
     "metadata": {},
     "output_type": "execute_result"
    }
   ],
   "source": [
    "news_data_df=pd.concat(news_data)\n",
    "news_data_df['dt']=news_data_df['seendate'].apply(lambda x: datetime.datetime.strptime(x, \"%Y%m%dT%H%M%SZ\"))\n",
    "news_data_df.shape"
   ]
  },
  {
   "cell_type": "code",
   "execution_count": 11,
   "metadata": {},
   "outputs": [],
   "source": [
    "news_data_df_processed=news_data_df[['dt', 'title']].drop_duplicates().sort_values('dt')\n"
   ]
  },
  {
   "cell_type": "code",
   "execution_count": 12,
   "metadata": {},
   "outputs": [],
   "source": [
    "news_data_df_processed.to_csv(f'../data/{ticker}_news.csv')"
   ]
  },
  {
   "cell_type": "code",
   "execution_count": null,
   "metadata": {},
   "outputs": [],
   "source": []
  }
 ],
 "metadata": {
  "kernelspec": {
   "display_name": "finance",
   "language": "python",
   "name": "python3"
  },
  "language_info": {
   "codemirror_mode": {
    "name": "ipython",
    "version": 3
   },
   "file_extension": ".py",
   "mimetype": "text/x-python",
   "name": "python",
   "nbconvert_exporter": "python",
   "pygments_lexer": "ipython3",
   "version": "3.12.2"
  }
 },
 "nbformat": 4,
 "nbformat_minor": 2
}

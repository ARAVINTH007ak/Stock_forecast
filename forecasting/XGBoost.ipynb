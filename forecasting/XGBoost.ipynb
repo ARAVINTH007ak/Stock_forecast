{
 "cells": [
  {
   "cell_type": "code",
   "execution_count": 14,
   "metadata": {},
   "outputs": [],
   "source": [
    "import utils.data_getter\n",
    "from utils.data_getter import TimeSeries\n",
    "from utils.technical_indicators import calculate_rsi, calculate_adx"
   ]
  },
  {
   "cell_type": "code",
   "execution_count": 15,
   "metadata": {},
   "outputs": [
    {
     "name": "stdout",
     "output_type": "stream",
     "text": [
      "[*********************100%%**********************]  1 of 1 completed\n"
     ]
    }
   ],
   "source": [
    "aapl = (\n",
    "    TimeSeries(\"AAPL\", date=\"2024-01-01\")\n",
    "    .construct_returns()\n",
    "    .construct_technical_indicators([calculate_rsi, calculate_adx], [5, 5])\n",
    "    .lag_column(\"Returns\", skip_lags=1, n_lags=2)\n",
    "    .dropna()\n",
    "    .drop_columns([\"Date\", \"Open\", \"High\", \"Low\", \"Close\", \"Adj Close\", \"Volume\"])\n",
    "    .train_test_split(test_size=0.2, target=\"Returns\")\n",
    ")"
   ]
  },
  {
   "cell_type": "code",
   "execution_count": 29,
   "metadata": {},
   "outputs": [
    {
     "data": {
      "text/html": [
       "<div>\n",
       "<style scoped>\n",
       "    .dataframe tbody tr th:only-of-type {\n",
       "        vertical-align: middle;\n",
       "    }\n",
       "\n",
       "    .dataframe tbody tr th {\n",
       "        vertical-align: top;\n",
       "    }\n",
       "\n",
       "    .dataframe thead th {\n",
       "        text-align: right;\n",
       "    }\n",
       "</style>\n",
       "<table border=\"1\" class=\"dataframe\">\n",
       "  <thead>\n",
       "    <tr style=\"text-align: right;\">\n",
       "      <th></th>\n",
       "      <th>Returns</th>\n",
       "      <th>RSI_5</th>\n",
       "      <th>ADX_5</th>\n",
       "      <th>Returns_lag1</th>\n",
       "      <th>Returns_lag2</th>\n",
       "    </tr>\n",
       "  </thead>\n",
       "  <tbody>\n",
       "    <tr>\n",
       "      <th>8</th>\n",
       "      <td>0.001778</td>\n",
       "      <td>84.955720</td>\n",
       "      <td>42.457842</td>\n",
       "      <td>-0.003223</td>\n",
       "      <td>0.005671</td>\n",
       "    </tr>\n",
       "    <tr>\n",
       "      <th>9</th>\n",
       "      <td>-0.012317</td>\n",
       "      <td>29.424396</td>\n",
       "      <td>51.330527</td>\n",
       "      <td>0.001778</td>\n",
       "      <td>-0.003223</td>\n",
       "    </tr>\n",
       "    <tr>\n",
       "      <th>10</th>\n",
       "      <td>-0.005174</td>\n",
       "      <td>26.436792</td>\n",
       "      <td>57.162133</td>\n",
       "      <td>-0.012317</td>\n",
       "      <td>0.001778</td>\n",
       "    </tr>\n",
       "    <tr>\n",
       "      <th>11</th>\n",
       "      <td>0.032571</td>\n",
       "      <td>62.055317</td>\n",
       "      <td>58.962795</td>\n",
       "      <td>-0.005174</td>\n",
       "      <td>-0.012317</td>\n",
       "    </tr>\n",
       "    <tr>\n",
       "      <th>12</th>\n",
       "      <td>0.015533</td>\n",
       "      <td>73.975885</td>\n",
       "      <td>50.260486</td>\n",
       "      <td>0.032571</td>\n",
       "      <td>-0.005174</td>\n",
       "    </tr>\n",
       "    <tr>\n",
       "      <th>...</th>\n",
       "      <td>...</td>\n",
       "      <td>...</td>\n",
       "      <td>...</td>\n",
       "      <td>...</td>\n",
       "      <td>...</td>\n",
       "    </tr>\n",
       "    <tr>\n",
       "      <th>136</th>\n",
       "      <td>-0.020535</td>\n",
       "      <td>40.525400</td>\n",
       "      <td>37.528796</td>\n",
       "      <td>-0.025296</td>\n",
       "      <td>0.001792</td>\n",
       "    </tr>\n",
       "    <tr>\n",
       "      <th>137</th>\n",
       "      <td>0.000580</td>\n",
       "      <td>29.302386</td>\n",
       "      <td>38.215076</td>\n",
       "      <td>-0.020535</td>\n",
       "      <td>-0.025296</td>\n",
       "    </tr>\n",
       "    <tr>\n",
       "      <th>138</th>\n",
       "      <td>-0.001560</td>\n",
       "      <td>4.766180</td>\n",
       "      <td>44.855156</td>\n",
       "      <td>0.000580</td>\n",
       "      <td>-0.020535</td>\n",
       "    </tr>\n",
       "    <tr>\n",
       "      <th>139</th>\n",
       "      <td>0.004688</td>\n",
       "      <td>9.695915</td>\n",
       "      <td>54.391895</td>\n",
       "      <td>-0.001560</td>\n",
       "      <td>0.000580</td>\n",
       "    </tr>\n",
       "    <tr>\n",
       "      <th>140</th>\n",
       "      <td>-0.028754</td>\n",
       "      <td>9.291283</td>\n",
       "      <td>63.693732</td>\n",
       "      <td>0.004688</td>\n",
       "      <td>-0.001560</td>\n",
       "    </tr>\n",
       "  </tbody>\n",
       "</table>\n",
       "<p>133 rows × 5 columns</p>\n",
       "</div>"
      ],
      "text/plain": [
       "      Returns      RSI_5      ADX_5  Returns_lag1  Returns_lag2\n",
       "8    0.001778  84.955720  42.457842     -0.003223      0.005671\n",
       "9   -0.012317  29.424396  51.330527      0.001778     -0.003223\n",
       "10  -0.005174  26.436792  57.162133     -0.012317      0.001778\n",
       "11   0.032571  62.055317  58.962795     -0.005174     -0.012317\n",
       "12   0.015533  73.975885  50.260486      0.032571     -0.005174\n",
       "..        ...        ...        ...           ...           ...\n",
       "136 -0.020535  40.525400  37.528796     -0.025296      0.001792\n",
       "137  0.000580  29.302386  38.215076     -0.020535     -0.025296\n",
       "138 -0.001560   4.766180  44.855156      0.000580     -0.020535\n",
       "139  0.004688   9.695915  54.391895     -0.001560      0.000580\n",
       "140 -0.028754   9.291283  63.693732      0.004688     -0.001560\n",
       "\n",
       "[133 rows x 5 columns]"
      ]
     },
     "execution_count": 29,
     "metadata": {},
     "output_type": "execute_result"
    }
   ],
   "source": [
    "aapl.data"
   ]
  },
  {
   "cell_type": "code",
   "execution_count": 5,
   "metadata": {},
   "outputs": [],
   "source": [
    "from sklearn.metrics import mean_absolute_percentage_error, r2_score\n",
    "import xgboost\n",
    "model = xgboost.XGBRegressor(max_depth = 2, learning_rate = 0.1, n_estimators = 100)\n",
    "model.fit(aapl.modelling_data.x_train, aapl.modelling_data.y_train)\n",
    "aapl.predict(model, \"Vanilla XGBoost\")\n",
    "MAPE = mean_absolute_percentage_error(aapl.modelling_data.y_test, aapl.predictions[\"Vanilla XGBoost\"])"
   ]
  },
  {
   "cell_type": "code",
   "execution_count": 6,
   "metadata": {},
   "outputs": [
    {
     "name": "stdout",
     "output_type": "stream",
     "text": [
      "MAPE: 142.56%\n"
     ]
    }
   ],
   "source": [
    "print(f\"MAPE: {MAPE*100:.2f}%\")"
   ]
  },
  {
   "cell_type": "markdown",
   "metadata": {},
   "source": [
    "## Hyperparameter Optimisation"
   ]
  },
  {
   "cell_type": "code",
   "execution_count": null,
   "metadata": {},
   "outputs": [],
   "source": [
    "from hyperopt import STATUS_OK, Trials, fmin, hp, tpe\n",
    "space={'max_depth': hp.quniform(\"max_depth\", 3, 18, 1),\n",
    "        'gamma': hp.uniform ('gamma', 1,9),\n",
    "        'reg_alpha' : hp.quniform('reg_alpha', 40,180,1),\n",
    "        'reg_lambda' : hp.uniform('reg_lambda', 0,1),\n",
    "        'colsample_bytree' : hp.uniform('colsample_bytree', 0.5,1),\n",
    "        'min_child_weight' : hp.quniform('min_child_weight', 0, 10, 1),\n",
    "        'n_estimators': 180,\n",
    "        'seed': 0\n",
    "    }\n",
    "def objective(space):\n",
    "    clf=xgboost.XGBRegressor(\n",
    "                    n_estimators =space['n_estimators'], max_depth = int(space['max_depth']), gamma = space['gamma'],\n",
    "                    reg_alpha = int(space['reg_alpha']),min_child_weight=int(space['min_child_weight']),\n",
    "                    colsample_bytree=int(space['colsample_bytree']))\n",
    "    \n",
    "    evaluation = [( aapl.modelling_data.x_train, aapl.modelling_data.y_train), ( aapl.modelling_data.x_test, aapl.modelling_data.y_test)]\n",
    "    \n",
    "    clf.fit(aapl.modelling_data.x_train, aapl.modelling_data.y_train,\n",
    "            eval_set=evaluation, eval_metric=\"auc\",\n",
    "            early_stopping_rounds=10,verbose=False)\n",
    "    \n",
    "\n",
    "    pred = clf.predict(aapl.modelling_data.x_test)\n",
    "    R2 = r2_score(aapl.modelling_data.y_test, pred)\n",
    "    return {'loss': -R2, 'status': STATUS_OK }"
   ]
  },
  {
   "cell_type": "code",
   "execution_count": 37,
   "metadata": {},
   "outputs": [],
   "source": [
    "trials = Trials()\n",
    "import warnings\n",
    "warnings.filterwarnings(\"ignore\")\n",
    "best_hyperparams = fmin(fn = objective,\n",
    "                        space = space,\n",
    "                        algo = tpe.suggest,\n",
    "                        max_evals = 100,\n",
    "                        trials = trials,\n",
    "                        verbose=False)"
   ]
  },
  {
   "cell_type": "code",
   "execution_count": 38,
   "metadata": {},
   "outputs": [],
   "source": [
    "# Fixing types\n",
    "best_hyperparams['max_depth'] = int(best_hyperparams['max_depth'])"
   ]
  },
  {
   "cell_type": "code",
   "execution_count": 39,
   "metadata": {},
   "outputs": [
    {
     "name": "stdout",
     "output_type": "stream",
     "text": [
      "MAPE: 96.58%\n"
     ]
    }
   ],
   "source": [
    "hyperparam_optimised_model = xgboost.XGBRegressor(**best_hyperparams)\n",
    "hyperparam_optimised_model.fit(aapl.modelling_data.x_train, aapl.modelling_data.y_train)\n",
    "aapl.predict(hyperparam_optimised_model, \"HPOptimised XGBoost\")\n",
    "MAPE = mean_absolute_percentage_error(aapl.modelling_data.y_test, aapl.predictions[\"HPOptimised XGBoost\"])\n",
    "R2 = r2_score(aapl.modelling_data.y_test, aapl.predictions[\"HPOptimised XGBoost\"])\n",
    "print(f\"MAPE: {MAPE*100:.2f}%\")\n"
   ]
  }
 ],
 "metadata": {
  "kernelspec": {
   "display_name": "Python 3",
   "language": "python",
   "name": "python3"
  },
  "language_info": {
   "codemirror_mode": {
    "name": "ipython",
    "version": 3
   },
   "file_extension": ".py",
   "mimetype": "text/x-python",
   "name": "python",
   "nbconvert_exporter": "python",
   "pygments_lexer": "ipython3",
   "version": "3.12.0"
  }
 },
 "nbformat": 4,
 "nbformat_minor": 2
}
